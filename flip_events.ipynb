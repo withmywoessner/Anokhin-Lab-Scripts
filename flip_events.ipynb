{
 "cells": [
  {
   "cell_type": "code",
   "execution_count": null,
   "metadata": {},
   "outputs": [],
   "source": [
    "\n",
    "def flip_events(onsets, durations, descriptions):\n",
    "    ec_bad_onsets, ec_bad_durations, ec_bad_descriptions = [], [], []\n",
    "    eo_bad_onsets, eo_bad_durations, eo_bad_descriptions = [], [], []\n",
    "    for i in range(len(onsets)):\n",
    "        if durations[i] > 60*1.20:\n",
    "            ec_bad_onsets.append(onsets[i])\n",
    "            ec_bad_durations.append(durations[i])\n",
    "            ec_bad_descriptions.append(descriptions[i])\n",
    "    if ec_bad_onsets[0] != 0:\n",
    "        for i in range(len(ec_bad_onsets)):\n",
    "            if i == 0:\n",
    "                length = 0\n",
    "                eo_bad_onsets.append(length)\n",
    "            else:\n",
    "                length = ec_bad_onsets[i-1]+ec_bad_durations[i-1] \n",
    "                eo_bad_onsets.append(length)\n",
    "            #if i < len(ec_bad_onsets)-2:\n",
    "            eo_bad_durations.append(ec_bad_onsets[i]-length)\n",
    "            # else:\n",
    "            #     eo_bad_durations.append(10000)\n",
    "            eo_bad_descriptions.append('bad')\n",
    "    return eo_bad_onsets, eo_bad_durations, eo_bad_descriptions\n",
    "        \n"
   ]
  }
 ],
 "metadata": {
  "language_info": {
   "name": "python"
  },
  "orig_nbformat": 4
 },
 "nbformat": 4,
 "nbformat_minor": 2
}
